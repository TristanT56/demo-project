{
 "cells": [
  {
   "cell_type": "code",
   "execution_count": null,
   "id": "a27def8b",
   "metadata": {},
   "outputs": [
    {
     "name": "stdout",
     "output_type": "stream",
     "text": [
      "0\n",
      "1\n",
      "2\n",
      "3\n",
      "4\n",
      "5\n",
      "6\n",
      "7\n",
      "8\n",
      "9\n",
      "x est plus grand que y\n",
      "None\n"
     ]
    }
   ],
   "source": [
    "def my_function(x, y):\n",
    "    if x > y:\n",
    "        print(\"x est plus grand que y\")\n",
    "    else:\n",
    "        print(\"x est plus petit ou égal à y\")\n",
    "\n",
    "\n",
    "def another_function(z):\n",
    "    print(f\"La valeur de z est: {z}\")\n",
    "\n",
    "\n",
    "for i in range(10):\n",
    "    print(i)\n",
    "\n",
    "\n",
    "print(my_function(5, 3))\n"
   ]
  }
 ],
 "metadata": {
  "kernelspec": {
   "display_name": ".venv",
   "language": "python",
   "name": "python3"
  },
  "language_info": {
   "codemirror_mode": {
    "name": "ipython",
    "version": 3
   },
   "file_extension": ".py",
   "mimetype": "text/x-python",
   "name": "python",
   "nbconvert_exporter": "python",
   "pygments_lexer": "ipython3",
   "version": "3.9.6"
  }
 },
 "nbformat": 4,
 "nbformat_minor": 5
}
